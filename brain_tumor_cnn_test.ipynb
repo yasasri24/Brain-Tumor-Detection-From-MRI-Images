{
  "cells": [
    {
      "cell_type": "code",
      "execution_count": 1,
      "metadata": {
        "id": "KMR4TjRqJ6RP"
      },
      "outputs": [],
      "source": [
        "import numpy as np\n",
        "import tensorflow as tf\n",
        "from tensorflow.keras.models import load_model\n",
        "from tensorflow.keras.preprocessing import image"
      ]
    },
    {
      "cell_type": "code",
      "execution_count": 2,
      "metadata": {
        "id": "mhAldN1FKBk2"
      },
      "outputs": [],
      "source": [
        "model=load_model(r'/content/drive/MyDrive/brain_tumor.h5')"
      ]
    },
    {
      "cell_type": "code",
      "execution_count": 3,
      "metadata": {
        "id": "XkwWUSz7Khft",
        "colab": {
          "base_uri": "https://localhost:8080/",
          "height": 81
        },
        "outputId": "f845e390-0678-4c0c-ad6b-80d65034b06a"
      },
      "outputs": [
        {
          "output_type": "execute_result",
          "data": {
            "text/plain": [
              "<PIL.Image.Image image mode=RGB size=64x64>"
            ],
            "image/png": "[encoded data removed]"
          },
          "metadata": {},
          "execution_count": 3
        }
      ],
      "source": [
        "img=image.load_img(r\"/content/drive/MyDrive/brain_tumor/test_set/no/N22.JPG\",target_size=(64,64))\n",
        "img"
      ]
    },
    {
      "cell_type": "code",
      "execution_count": 4,
      "metadata": {
        "id": "3pQrsrfSL13t",
        "colab": {
          "base_uri": "https://localhost:8080/"
        },
        "outputId": "0aec148c-4255-4948-c25e-8a38b9815433"
      },
      "outputs": [
        {
          "output_type": "stream",
          "name": "stdout",
          "text": [
            "1/1 [==============================] - 0s 159ms/step\n",
            "[[0.49805492]]\n"
          ]
        }
      ],
      "source": [
        "x=image.img_to_array(img)\n",
        "x=np.expand_dims(x,axis=0)\n",
        "def preprocess_image(image_path):\n",
        "    img = tf.keras.preprocessing.image.load_img(image_path, target_size=(150, 150))\n",
        "    img_array = tf.keras.preprocessing.image.img_to_array(img)\n",
        "    img_array = np.expand_dims(img_array, axis=0)\n",
        "    img_array /= 255.0  # Normalize the pixel values (similar to what we did during training)\n",
        "    return img_array\n",
        "x = preprocess_image(\"/content/drive/MyDrive/no/1 no.jpeg\")\n",
        "\n",
        "pred=model.predict(x)\n",
        "print(pred)"
      ]
    },
    {
      "cell_type": "code",
      "execution_count": 5,
      "metadata": {
        "id": "_FY4NMt4L6DD",
        "colab": {
          "base_uri": "https://localhost:8080/"
        },
        "outputId": "9b62fbe8-5d0c-4369-937a-01b2ec5ff4cc"
      },
      "outputs": [
        {
          "output_type": "stream",
          "name": "stdout",
          "text": [
            "1/1 [==============================] - 0s 179ms/step\n",
            "The model predicts that the image does not have a brain tumor.\n",
            "[[0.49398324]]\n"
          ]
        }
      ],
      "source": [
        "import numpy as np\n",
        "from tensorflow.keras.models import load_model\n",
        "\n",
        "# Load the saved model\n",
        "loaded_model = load_model('/content/drive/MyDrive/brain_tumor.h5')\n",
        "def preprocess_image(image_path):\n",
        "    img = tf.keras.preprocessing.image.load_img(image_path, target_size=(150, 150))\n",
        "    img_array = tf.keras.preprocessing.image.img_to_array(img)\n",
        "    img_array = np.expand_dims(img_array, axis=0)\n",
        "    img_array /= 255.0\n",
        "    return img_array\n",
        "\n",
        "new_image_path = '/content/drive/MyDrive/no/2 no.jpeg'\n",
        "new_image = preprocess_image(new_image_path)\n",
        "\n",
        "prediction = loaded_model.predict(new_image)\n",
        "\n",
        "# The 'prediction' variable now contains the model's prediction, which is a value close to 0 for 'no tumor' and close to 1 for 'tumor'\n",
        "# You can interpret the prediction based on the threshold (e.g., if prediction >= 0.5, it's predicted as 'tumor')\n",
        "if prediction >0.5:\n",
        "    print(\"The model predicts that the image has a brain tumor.\")\n",
        "else:\n",
        "    print(\"The model predicts that the image does not have a brain tumor.\")\n",
        "print(prediction)"
      ]
    }
  ],
  "metadata": {
    "colab": {
      "provenance": []
    },
    "kernelspec": {
      "display_name": "Python 3",
      "name": "python3"
    },
    "language_info": {
      "name": "python"
    }
  },
  "nbformat": 4,
  "nbformat_minor": 0
}